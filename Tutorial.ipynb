{
  "cells": [
    {
      "cell_type": "code",
      "execution_count": 1,
      "metadata": {
        "collapsed": false
      },
      "outputs": [],
      "source": [
        "%matplotlib inline"
      ]
    },
    {
      "cell_type": "markdown",
      "metadata": {},
      "source": [
        "\n",
        "# Meta-Learner\n"
      ]
    },
    {
      "cell_type": "markdown",
      "metadata": {},
      "source": [
        "First check to have a directory like this:\n",
        "\n",
        "```text\n",
        "lib\n",
        "├── dataset                     # Store datasets\n",
        "├── images                      # Images for presentations, README, etc.\n",
        "├── metafeatures                # Store metafeatures\n",
        "├── model                       # Store trained ML models\n",
        "├── src                         # Actual code\n",
        "│   ├─ test                     # Test code\n",
        "│   ├─ utils                    # General utility code\n",
        "│   ├─ out                      # Store eventual data\n",
        "|   └─ config.py\n",
        "|── main.py\n",
        "|── Tutorial.ipynb\n",
        "└── test.py\n",
        "```"
      ]
    },
    {
      "cell_type": "markdown",
      "metadata": {},
      "source": [
        "## Data\n",
        "To train the meta-learner we first need the data."
      ]
    },
    {
      "cell_type": "code",
      "execution_count": null,
      "metadata": {},
      "outputs": [],
      "source": [
        "from os.path import join\n",
        "from src.config import DATASET_FOLDER \n",
        "from src.utils.metalearner import data_preparation \n",
        "\n",
        "VERBOSE = True\n",
        "# Just a directory where you've stored your CSV datasets.\n",
        "prova = join(DATASET_FOLDER, 'prova') \n",
        "\n",
        "data_preparation(\n",
        "    data_path=prova,\n",
        "    data_selection = False,\n",
        "    data_preprocess = True,\n",
        "    metafeatures_extraction = True,\n",
        "    model_training = True,\n",
        "    verbose=VERBOSE)"
      ]
    },
    {
      "cell_type": "markdown",
      "metadata": {},
      "source": [
        "The 'data preparation' function can perform multiple functions: \n",
        "* **Data download**: downloads the datasets. If you already have a dataset you can disable it by setting `data_selection = False`\n",
        "* **Data preprocessing**: performs all preprocessing of all datasets. If you have already done it you can disable it by setting `data_preprocess = False`\n",
        "* **Metafeatures Extraction**: extract metafeatures from all datasets, preprocessed and not. If you have already done it you can disable it by setting `metafeatures_extraction = False`\n",
        "* **Models Training**: train all models on all datasets, preprocessed and not. If you have already done it you can disable it by setting `model_training = False`"
      ]
    },
    {
      "cell_type": "markdown",
      "metadata": {},
      "source": [
        "## Train"
      ]
    }
  ],
  "metadata": {
    "interpreter": {
      "hash": "916dbcbb3f70747c44a77c7bcd40155683ae19c65e1c03b4aa3499c5328201f1"
    },
    "kernelspec": {
      "display_name": "Python 3.10.4 64-bit",
      "language": "python",
      "name": "python3"
    },
    "language_info": {
      "codemirror_mode": {
        "name": "ipython",
        "version": 3
      },
      "file_extension": ".py",
      "mimetype": "text/x-python",
      "name": "python",
      "nbconvert_exporter": "python",
      "pygments_lexer": "ipython3",
      "version": "3.10.4"
    }
  },
  "nbformat": 4,
  "nbformat_minor": 0
}
